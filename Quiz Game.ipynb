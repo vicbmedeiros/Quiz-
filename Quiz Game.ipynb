{
 "cells": [
  {
   "cell_type": "code",
   "execution_count": 1,
   "id": "10ea8006",
   "metadata": {},
   "outputs": [],
   "source": [
    "class Question:\n",
    "    def __init__ (self, prompt, answer):\n",
    "        self.prompt = prompt\n",
    "        self.answer = answer"
   ]
  },
  {
   "cell_type": "code",
   "execution_count": 2,
   "id": "7b823aeb",
   "metadata": {},
   "outputs": [],
   "source": [
    "def run_quiz(questions):\n",
    "    score = 0\n",
    "    for question in questions:\n",
    "        user_answer = input(question.prompt + \" \")\n",
    "        if user_answer.lower() == question.answer.lower():\n",
    "            score +=1\n",
    "    return score"
   ]
  },
  {
   "cell_type": "code",
   "execution_count": 4,
   "id": "f98d6e9e",
   "metadata": {},
   "outputs": [],
   "source": [
    "questions = [\n",
    "    Question(\"What is the capital of France?\", \"Paris\"),\n",
    "    Question(\"How much is 5 * 15?\", \"75\"),\n",
    "    Question(\"Who is the author of Harry Potter?\", \"J. K. Roling\"),\n",
    "    Question(\"What sport is most common in Brasil?\", \"Futebol\")\n",
    "]"
   ]
  },
  {
   "cell_type": "code",
   "execution_count": 7,
   "id": "8f9e7087",
   "metadata": {},
   "outputs": [
    {
     "name": "stdout",
     "output_type": "stream",
     "text": [
      "What is the capital of France? paris\n",
      "How much is 5 * 15? 75\n",
      "Who is the author of Harry Potter? j. k. roling\n",
      "What sport is most common in Brasil? futebol\n"
     ]
    }
   ],
   "source": [
    "score = run_quiz(questions)"
   ]
  },
  {
   "cell_type": "code",
   "execution_count": 11,
   "id": "6fad6a32",
   "metadata": {},
   "outputs": [
    {
     "name": "stdout",
     "output_type": "stream",
     "text": [
      "Quiz Game\n",
      "What is the capital of France? ka\n",
      "How much is 5 * 15? kd\n",
      "Who is the author of Harry Potter? kd\n",
      "What sport is most common in Brasil? e\n",
      "Your score is: 0\n",
      "Do you want to try again? (y or n)a\n",
      "Please insert y or n\n",
      "Do you want to try again? (y or n)y\n",
      "What is the capital of France? d\n",
      "How much is 5 * 15? d\n",
      "Who is the author of Harry Potter? d\n",
      "What sport is most common in Brasil? d\n",
      "Your score is: 0\n",
      "Do you want to try again? (y or n)n\n"
     ]
    }
   ],
   "source": [
    "print(\"Quiz Game\")\n",
    "\n",
    "score = run_quiz(questions)\n",
    "print(f\"Your score is: {score}\")\n",
    "    \n",
    "while True:\n",
    "   \n",
    "    choice = input(\"Do you want to try again? (y or n)\")\n",
    "    \n",
    "    if choice.lower()[0] == 'y':\n",
    "        score = run_quiz(questions)\n",
    "        print(f\"Your score is: {score}\")\n",
    "    elif choice.lower()[0] != 'n':\n",
    "        print(\"Please insert y or n\")\n",
    "    else:    \n",
    "        break"
   ]
  },
  {
   "cell_type": "code",
   "execution_count": null,
   "id": "e3ef9488",
   "metadata": {},
   "outputs": [],
   "source": []
  }
 ],
 "metadata": {
  "kernelspec": {
   "display_name": "Python 3 (ipykernel)",
   "language": "python",
   "name": "python3"
  },
  "language_info": {
   "codemirror_mode": {
    "name": "ipython",
    "version": 3
   },
   "file_extension": ".py",
   "mimetype": "text/x-python",
   "name": "python",
   "nbconvert_exporter": "python",
   "pygments_lexer": "ipython3",
   "version": "3.11.5"
  }
 },
 "nbformat": 4,
 "nbformat_minor": 5
}
